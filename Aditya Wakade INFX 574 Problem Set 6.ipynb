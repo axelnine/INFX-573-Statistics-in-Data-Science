{
 "cells": [
  {
   "cell_type": "markdown",
   "metadata": {},
   "source": [
    "# Problem Set 5\n",
    "\n",
    "## Trees, Bagging and RandomForest\n",
    "\n",
    "### Prem Shah\n",
    "\n",
    "### INFX 574\n",
    "\n",
    "This problem set uses the Titanic Dataset and the below, we see the description of the attributes.\n",
    "\n",
    "\n",
    "* a) **survived** - categorical variable if a person survived or not (1 - survived, 0 - did not survive).\n",
    "* b) **pclass** - ticket class of passenger (1 = 1st, 2= 2nd or 3 = 3rd)\n",
    "* c) **sex** - gender of passenger.\n",
    "* d) **age** - age in years.\n",
    "* e) **sibsp** - number of siblings/spouses aboard the titanic.\n",
    "* f) **parch** - number of parents/children aboard the titanic.\n",
    "* g) **ticket** - ticket number of the passenger.\n",
    "* h) **fare** - passenger fare.\n",
    "* i) **cabin** - cabin number.\n",
    "* j) **embarked** - port of embarkation (C = Cherbourg, Q = Queenstown, S = Southampton).\n",
    "* k) **boat** - on which boat.\n",
    "* l) **body** - ________.\n",
    "* m) **fare** - passenger fare.\n",
    "\n",
    "### Collaborated with: Manasi Kulkarni, Aditya Wakade, Pratik Damania, Gaurav Gohil"
   ]
  },
  {
   "cell_type": "code",
   "execution_count": 1,
   "metadata": {},
   "outputs": [],
   "source": [
    "import pandas as pd\n",
    "import numpy as np\n",
    "from scipy.stats import entropy\n",
    "import matplotlib.pyplot as plt\n",
    "from sklearn.preprocessing import LabelEncoder\n",
    "import math\n",
    "import matplotlib.pyplot as plt"
   ]
  },
  {
   "cell_type": "code",
   "execution_count": 2,
   "metadata": {},
   "outputs": [],
   "source": [
    "# Importing the data\n",
    "data = pd.read_csv('titanic.csv')\n",
    "data['sex'] = np.where(data.sex == 'female', 1, 0)\n",
    "\n",
    "# Making a family siz by adding the columns parch and sibsp. And then classifying\n",
    "data['family size'] = data.parch + data.sibsp\n",
    "data['family class'] =  np.where(data['family size'].isin([0]), 'single', np.where(data['family size'].isin([1,2]), 'small', np.where(data['family size'].isin([3,4,5]), 'medium', 'large')))"
   ]
  },
  {
   "cell_type": "code",
   "execution_count": 3,
   "metadata": {},
   "outputs": [
    {
     "data": {
      "text/plain": [
       "(array([ 35.,   0.,   0.,  90.,   0.,   0., 790.,   0.,   0., 394.]),\n",
       " array([0. , 0.3, 0.6, 0.9, 1.2, 1.5, 1.8, 2.1, 2.4, 2.7, 3. ]),\n",
       " <a list of 10 Patch objects>)"
      ]
     },
     "execution_count": 3,
     "metadata": {},
     "output_type": "execute_result"
    },
    {
     "data": {
      "image/png": "[encoded data removed]",
      "text/plain": [
       "<matplotlib.figure.Figure at 0x1582e80d908>"
      ]
     },
     "metadata": {},
     "output_type": "display_data"
    }
   ],
   "source": [
    "plt.hist(data['family class'])"
   ]
  },
  {
   "cell_type": "markdown",
   "metadata": {},
   "source": [
    "As we can see, single and small families account for the largest passengers."
   ]
  },
  {
   "cell_type": "code",
   "execution_count": null,
   "metadata": {},
   "outputs": [],
   "source": []
  },
  {
   "cell_type": "code",
   "execution_count": 4,
   "metadata": {},
   "outputs": [],
   "source": [
    "# Splitting the data in survived and not survived\n",
    "sur = data[data.survived == 1]\n",
    "n_sur = data[data.survived == 0]"
   ]
  },
  {
   "cell_type": "code",
   "execution_count": 5,
   "metadata": {
    "scrolled": true
   },
   "outputs": [
    {
     "data": {
      "text/plain": [
       "pclass         0\n",
       "survived       0\n",
       "sex            0\n",
       "age          263\n",
       "sibsp          0\n",
       "parch          0\n",
       "fare           1\n",
       "body        1188\n",
       "dtype: int64"
      ]
     },
     "execution_count": 5,
     "metadata": {},
     "output_type": "execute_result"
    }
   ],
   "source": [
    "# Finding null values for every column\n",
    "nulls = data.isnull().sum()\n",
    "nl = nulls[[0,1,3,4,5,6,8,12]]\n",
    "nl"
   ]
  },
  {
   "cell_type": "code",
   "execution_count": 6,
   "metadata": {},
   "outputs": [],
   "source": [
    "# Finding mean, max and min for survived\n",
    "x1 = sur.describe().T[['mean', 'min', 'max']]\n",
    "x1.columns = ['survived_average', 'survived_min', 'survived_max']"
   ]
  },
  {
   "cell_type": "code",
   "execution_count": 7,
   "metadata": {},
   "outputs": [],
   "source": [
    "# Finding mean, max and min for not survived\n",
    "x2 = n_sur.describe().T[['mean', 'min', 'max']]\n",
    "x2.columns = ['not survived_average', 'not survived_min', 'not survived_max']"
   ]
  },
  {
   "cell_type": "code",
   "execution_count": 8,
   "metadata": {},
   "outputs": [
    {
     "data": {
      "text/html": [
       "<div>\n",
       "<style scoped>\n",
       "    .dataframe tbody tr th:only-of-type {\n",
       "        vertical-align: middle;\n",
       "    }\n",
       "\n",
       "    .dataframe tbody tr th {\n",
       "        vertical-align: top;\n",
       "    }\n",
       "\n",
       "    .dataframe thead th {\n",
       "        text-align: right;\n",
       "    }\n",
       "</style>\n",
       "<table border=\"1\" class=\"dataframe\">\n",
       "  <thead>\n",
       "    <tr style=\"text-align: right;\">\n",
       "      <th></th>\n",
       "      <th>survived_average</th>\n",
       "      <th>not survived_average</th>\n",
       "      <th>nulls</th>\n",
       "    </tr>\n",
       "  </thead>\n",
       "  <tbody>\n",
       "    <tr>\n",
       "      <th>pclass</th>\n",
       "      <td>1.962000</td>\n",
       "      <td>2.500618</td>\n",
       "      <td>0</td>\n",
       "    </tr>\n",
       "    <tr>\n",
       "      <th>survived</th>\n",
       "      <td>1.000000</td>\n",
       "      <td>0.000000</td>\n",
       "      <td>0</td>\n",
       "    </tr>\n",
       "    <tr>\n",
       "      <th>sex</th>\n",
       "      <td>0.678000</td>\n",
       "      <td>0.156984</td>\n",
       "      <td>0</td>\n",
       "    </tr>\n",
       "    <tr>\n",
       "      <th>age</th>\n",
       "      <td>28.918228</td>\n",
       "      <td>30.545369</td>\n",
       "      <td>263</td>\n",
       "    </tr>\n",
       "    <tr>\n",
       "      <th>sibsp</th>\n",
       "      <td>0.462000</td>\n",
       "      <td>0.521632</td>\n",
       "      <td>0</td>\n",
       "    </tr>\n",
       "    <tr>\n",
       "      <th>parch</th>\n",
       "      <td>0.476000</td>\n",
       "      <td>0.328801</td>\n",
       "      <td>0</td>\n",
       "    </tr>\n",
       "    <tr>\n",
       "      <th>fare</th>\n",
       "      <td>49.361184</td>\n",
       "      <td>23.353831</td>\n",
       "      <td>1</td>\n",
       "    </tr>\n",
       "    <tr>\n",
       "      <th>body</th>\n",
       "      <td>NaN</td>\n",
       "      <td>160.809917</td>\n",
       "      <td>1188</td>\n",
       "    </tr>\n",
       "  </tbody>\n",
       "</table>\n",
       "</div>"
      ],
      "text/plain": [
       "          survived_average  not survived_average  nulls\n",
       "pclass            1.962000              2.500618      0\n",
       "survived          1.000000              0.000000      0\n",
       "sex               0.678000              0.156984      0\n",
       "age              28.918228             30.545369    263\n",
       "sibsp             0.462000              0.521632      0\n",
       "parch             0.476000              0.328801      0\n",
       "fare             49.361184             23.353831      1\n",
       "body                   NaN            160.809917   1188"
      ]
     },
     "execution_count": 8,
     "metadata": {},
     "output_type": "execute_result"
    }
   ],
   "source": [
    "\n",
    "sum_data = pd.DataFrame(list(zip(sur.mean(),n_sur.mean(),nl)))\n",
    "sum_data.columns = ['survived_average', 'not survived_average', 'nulls']\n",
    "sum_data.index = ['pclass', 'survived', 'sex','age', 'sibsp', 'parch', 'fare', 'body']\n",
    "sum_data"
   ]
  },
  {
   "cell_type": "markdown",
   "metadata": {},
   "source": [
    "Now we join the datasets to find average and min max values for survived, not survived along with null values"
   ]
  },
  {
   "cell_type": "code",
   "execution_count": 9,
   "metadata": {},
   "outputs": [
    {
     "data": {
      "text/html": [
       "<div>\n",
       "<style scoped>\n",
       "    .dataframe tbody tr th:only-of-type {\n",
       "        vertical-align: middle;\n",
       "    }\n",
       "\n",
       "    .dataframe tbody tr th {\n",
       "        vertical-align: top;\n",
       "    }\n",
       "\n",
       "    .dataframe thead th {\n",
       "        text-align: right;\n",
       "    }\n",
       "</style>\n",
       "<table border=\"1\" class=\"dataframe\">\n",
       "  <thead>\n",
       "    <tr style=\"text-align: right;\">\n",
       "      <th></th>\n",
       "      <th>survived_average</th>\n",
       "      <th>not survived_average</th>\n",
       "      <th>nulls</th>\n",
       "      <th>survived_min</th>\n",
       "      <th>survived_max</th>\n",
       "      <th>not survived_min</th>\n",
       "      <th>not survived_max</th>\n",
       "    </tr>\n",
       "  </thead>\n",
       "  <tbody>\n",
       "    <tr>\n",
       "      <th>pclass</th>\n",
       "      <td>1.962000</td>\n",
       "      <td>2.500618</td>\n",
       "      <td>0</td>\n",
       "      <td>1.0000</td>\n",
       "      <td>3.0000</td>\n",
       "      <td>1.0000</td>\n",
       "      <td>3.0</td>\n",
       "    </tr>\n",
       "    <tr>\n",
       "      <th>survived</th>\n",
       "      <td>1.000000</td>\n",
       "      <td>0.000000</td>\n",
       "      <td>0</td>\n",
       "      <td>1.0000</td>\n",
       "      <td>1.0000</td>\n",
       "      <td>0.0000</td>\n",
       "      <td>0.0</td>\n",
       "    </tr>\n",
       "    <tr>\n",
       "      <th>sex</th>\n",
       "      <td>0.678000</td>\n",
       "      <td>0.156984</td>\n",
       "      <td>0</td>\n",
       "      <td>0.0000</td>\n",
       "      <td>1.0000</td>\n",
       "      <td>0.0000</td>\n",
       "      <td>1.0</td>\n",
       "    </tr>\n",
       "    <tr>\n",
       "      <th>age</th>\n",
       "      <td>28.918228</td>\n",
       "      <td>30.545369</td>\n",
       "      <td>263</td>\n",
       "      <td>0.1667</td>\n",
       "      <td>80.0000</td>\n",
       "      <td>0.3333</td>\n",
       "      <td>74.0</td>\n",
       "    </tr>\n",
       "    <tr>\n",
       "      <th>sibsp</th>\n",
       "      <td>0.462000</td>\n",
       "      <td>0.521632</td>\n",
       "      <td>0</td>\n",
       "      <td>0.0000</td>\n",
       "      <td>4.0000</td>\n",
       "      <td>0.0000</td>\n",
       "      <td>8.0</td>\n",
       "    </tr>\n",
       "    <tr>\n",
       "      <th>parch</th>\n",
       "      <td>0.476000</td>\n",
       "      <td>0.328801</td>\n",
       "      <td>0</td>\n",
       "      <td>0.0000</td>\n",
       "      <td>5.0000</td>\n",
       "      <td>0.0000</td>\n",
       "      <td>9.0</td>\n",
       "    </tr>\n",
       "    <tr>\n",
       "      <th>fare</th>\n",
       "      <td>49.361184</td>\n",
       "      <td>23.353831</td>\n",
       "      <td>1</td>\n",
       "      <td>0.0000</td>\n",
       "      <td>512.3292</td>\n",
       "      <td>0.0000</td>\n",
       "      <td>263.0</td>\n",
       "    </tr>\n",
       "    <tr>\n",
       "      <th>body</th>\n",
       "      <td>NaN</td>\n",
       "      <td>160.809917</td>\n",
       "      <td>1188</td>\n",
       "      <td>NaN</td>\n",
       "      <td>NaN</td>\n",
       "      <td>1.0000</td>\n",
       "      <td>328.0</td>\n",
       "    </tr>\n",
       "  </tbody>\n",
       "</table>\n",
       "</div>"
      ],
      "text/plain": [
       "          survived_average  not survived_average  nulls  survived_min  \\\n",
       "pclass            1.962000              2.500618      0        1.0000   \n",
       "survived          1.000000              0.000000      0        1.0000   \n",
       "sex               0.678000              0.156984      0        0.0000   \n",
       "age              28.918228             30.545369    263        0.1667   \n",
       "sibsp             0.462000              0.521632      0        0.0000   \n",
       "parch             0.476000              0.328801      0        0.0000   \n",
       "fare             49.361184             23.353831      1        0.0000   \n",
       "body                   NaN            160.809917   1188           NaN   \n",
       "\n",
       "          survived_max  not survived_min  not survived_max  \n",
       "pclass          3.0000            1.0000               3.0  \n",
       "survived        1.0000            0.0000               0.0  \n",
       "sex             1.0000            0.0000               1.0  \n",
       "age            80.0000            0.3333              74.0  \n",
       "sibsp           4.0000            0.0000               8.0  \n",
       "parch           5.0000            0.0000               9.0  \n",
       "fare          512.3292            0.0000             263.0  \n",
       "body               NaN            1.0000             328.0  "
      ]
     },
     "execution_count": 9,
     "metadata": {},
     "output_type": "execute_result"
    }
   ],
   "source": [
    "temp = pd.merge(sum_data, x1, on = 'survived_average')\n",
    "final = pd.merge(temp, x2, on = 'not survived_average')\n",
    "final.index = ['pclass', 'survived','sex', 'age', 'sibsp', 'parch', 'fare', 'body']\n",
    "final"
   ]
  },
  {
   "cell_type": "markdown",
   "metadata": {},
   "source": [
    "Analysis: We can see that the average values of pclass is slightly less than class 2 whie for not survived it is tending towards class 3 from class 2. Hence we can estimate that 2nd and 3rd class people did not survive as much as 1st class people.\n",
    "On an average it seems like slightly more younger people survived but the range for not survived is smaller and spans till 74. Age has a lot of null values so we cannot be sure about its results.\n",
    "\n",
    "Also, a higher proportion of parents and children who survived had relatively smaller familites than the ones who did not survive.\n",
    "\n",
    "Lastly, we can say that much more women survived over men based on the average values."
   ]
  },
  {
   "cell_type": "code",
   "execution_count": 10,
   "metadata": {},
   "outputs": [
    {
     "data": {
      "text/plain": [
       "Text(0,0.5,'Number of people')"
      ]
     },
     "execution_count": 10,
     "metadata": {},
     "output_type": "execute_result"
    },
    {
     "data": {
      "image/png": "[encoded data removed]",
      "text/plain": [
       "<matplotlib.figure.Figure at 0x158331610b8>"
      ]
     },
     "metadata": {},
     "output_type": "display_data"
    }
   ],
   "source": [
    "fig, ax = plt.subplots()\n",
    "ax.hist(data['embarked']) # Blue\n",
    "ax.hist(sur['embarked'])  # Orange\n",
    "ax.hist(n_sur['embarked']) # Green\n",
    "plt.xlabel('Place where embarked')\n",
    "plt.ylabel('Number of people')"
   ]
  },
  {
   "cell_type": "markdown",
   "metadata": {},
   "source": [
    "This type of analysis shows us the total number of people from each port (Blue), Number of survivors (Orange) and number of non survivor (Green). We can see that majority of the people embarked at Southampton and had the relatively least survivors. Cherbourg is the only place which has more survivors than not survivors. There might be some reasoning behind the demographic of Cherbourg either about 1st class higher population or women."
   ]
  },
  {
   "cell_type": "code",
   "execution_count": 11,
   "metadata": {},
   "outputs": [],
   "source": [
    "# Subsetting the data for including only ordinal and categorical variables which show strong differences between survived and not survived\n",
    "dt_data = data[['pclass', 'sex','age', 'family class', 'embarked', 'survived']]"
   ]
  },
  {
   "cell_type": "code",
   "execution_count": 12,
   "metadata": {},
   "outputs": [],
   "source": [
    "dt_test = data.sample(frac = 0.25)\n",
    "dt_train = data.drop(dt_test.index)"
   ]
  },
  {
   "cell_type": "markdown",
   "metadata": {},
   "source": [
    "Now we make a function that \n",
    "1. Calculates entropy for 2 given sums\n",
    "2. Calculates the information gain of a column as compared to target variable\n",
    "3. Returns a Decision tree when a dataset and target is given as input"
   ]
  },
  {
   "cell_type": "code",
   "execution_count": 13,
   "metadata": {},
   "outputs": [],
   "source": [
    "def entropy_finder(x,y):\n",
    "    sum = x + y\n",
    "    if(x==0 or y==0):\n",
    "        entropy = 0\n",
    "    else:\n",
    "        entropy = -(x/sum)*np.log2(x/sum) - (y/sum)*np.log2(y/sum)\n",
    "    return(entropy)"
   ]
  },
  {
   "cell_type": "code",
   "execution_count": 14,
   "metadata": {},
   "outputs": [
    {
     "name": "stdout",
     "output_type": "stream",
     "text": [
      "entropy of survived in training data 0.959354634665085\n"
     ]
    }
   ],
   "source": [
    "# Finding the entropy of the target variable in the training data\n",
    "entropy_target = entropy_finder(len(dt_train[dt_train['survived'] == 1]), len(dt_train[dt_train['survived'] == 0]))\n",
    "print('entropy of survived in training data',entropy_target)"
   ]
  },
  {
   "cell_type": "code",
   "execution_count": 15,
   "metadata": {},
   "outputs": [],
   "source": [
    "# MAKING a function for finding entropy and information gain\n",
    "def col_entropy_finder(col_tar_data, col_name):\n",
    "    res = pd.DataFrame(columns = ['value', 'entropy', 'weight'])\n",
    "    len_tot = len(col_tar_data)\n",
    "    ig = 0\n",
    "    for elem in col_tar_data[col_name].unique():\n",
    "        x = col_tar_data[col_tar_data[col_name] == elem]\n",
    "        col_weight = len(x)\n",
    "        e1 = len(x[x['survived'] == 1])\n",
    "        e2 = len(x[x['survived'] == 0])\n",
    "        entr = entropy_finder(e1, e2)\n",
    "        idx = len(res) + 1\n",
    "        res.loc[idx] = [elem,entr,col_weight]\n",
    "        ig = ig + (entr*col_weight/len_tot)\n",
    "    \n",
    "    return(res,ig)"
   ]
  },
  {
   "cell_type": "code",
   "execution_count": 16,
   "metadata": {},
   "outputs": [
    {
     "name": "stdout",
     "output_type": "stream",
     "text": [
      "   value   entropy  weight\n",
      "1    1.0  0.958609   323.0\n",
      "2    2.0  0.985653   277.0\n",
      "3    3.0  0.819554   709.0\n",
      "column entropy is 0.8890147580167741\n"
     ]
    }
   ],
   "source": [
    "f, col_entr = col_entropy_finder(data, 'pclass')\n",
    "print(f)\n",
    "print(\"column entropy is\", col_entr)"
   ]
  },
  {
   "cell_type": "markdown",
   "metadata": {},
   "source": [
    "### Finding an optimal value for splitting age "
   ]
  },
  {
   "cell_type": "code",
   "execution_count": 17,
   "metadata": {},
   "outputs": [
    {
     "data": {
      "text/plain": [
       "(array([ 72.,  62., 274., 250., 161., 108.,  65.,  41.,  10.,   3.]),\n",
       " array([ 0.1667 ,  8.15003, 16.13336, 24.11669, 32.10002, 40.08335,\n",
       "        48.06668, 56.05001, 64.03334, 72.01667, 80.     ]),\n",
       " <a list of 10 Patch objects>)"
      ]
     },
     "execution_count": 17,
     "metadata": {},
     "output_type": "execute_result"
    },
    {
     "data": {
      "image/png": "[encoded data removed]",
      "text/plain": [
       "<matplotlib.figure.Figure at 0x158331493c8>"
      ]
     },
     "metadata": {},
     "output_type": "display_data"
    }
   ],
   "source": [
    "plt.hist(data.age.dropna())"
   ]
  },
  {
   "cell_type": "markdown",
   "metadata": {},
   "source": [
    "We can see that average age is around thirty. With a median of 40 years. As seen in the histogram, the most frequent age value lies somewhere near 30. We can either drop the NAN values or assign all of them to the mean value 30 to ensure a similar distribution. We drop all the NAN age values and then make a set of unique values."
   ]
  },
  {
   "cell_type": "code",
   "execution_count": 18,
   "metadata": {},
   "outputs": [],
   "source": [
    "# We drop all NaN values for age and embarked\n",
    "data_new = data.drop(index = data[data['age'] == float('nan')].index)\n",
    "data_new = data.drop(index = data[data['age'].isnull() == True].index)\n",
    "\n",
    "data_new = data.drop(index = data[data['embarked'] == float('nan')].index)\n",
    "data_new = data.drop(index = data[data['embarked'].isnull() == True].index)"
   ]
  },
  {
   "cell_type": "code",
   "execution_count": 19,
   "metadata": {},
   "outputs": [],
   "source": [
    "# Redefining test train for combined analysis\n",
    "dt_test = data_new.iloc[0:300]\n",
    "dt_train = data_new.drop(index = dt_test.index)"
   ]
  },
  {
   "cell_type": "markdown",
   "metadata": {},
   "source": [
    "Finding entropy of a column age"
   ]
  },
  {
   "cell_type": "code",
   "execution_count": 20,
   "metadata": {},
   "outputs": [
    {
     "data": {
      "text/html": [
       "<div>\n",
       "<style scoped>\n",
       "    .dataframe tbody tr th:only-of-type {\n",
       "        vertical-align: middle;\n",
       "    }\n",
       "\n",
       "    .dataframe tbody tr th {\n",
       "        vertical-align: top;\n",
       "    }\n",
       "\n",
       "    .dataframe thead th {\n",
       "        text-align: right;\n",
       "    }\n",
       "</style>\n",
       "<table border=\"1\" class=\"dataframe\">\n",
       "  <thead>\n",
       "    <tr style=\"text-align: right;\">\n",
       "      <th></th>\n",
       "      <th>age</th>\n",
       "      <th>entropy</th>\n",
       "    </tr>\n",
       "  </thead>\n",
       "  <tbody>\n",
       "    <tr>\n",
       "      <th>62</th>\n",
       "      <td>36.5000</td>\n",
       "      <td>0.886966</td>\n",
       "    </tr>\n",
       "    <tr>\n",
       "      <th>15</th>\n",
       "      <td>36.0000</td>\n",
       "      <td>0.887311</td>\n",
       "    </tr>\n",
       "    <tr>\n",
       "      <th>20</th>\n",
       "      <td>34.0000</td>\n",
       "      <td>0.887564</td>\n",
       "    </tr>\n",
       "    <tr>\n",
       "      <th>73</th>\n",
       "      <td>0.3333</td>\n",
       "      <td>0.887750</td>\n",
       "    </tr>\n",
       "    <tr>\n",
       "      <th>37</th>\n",
       "      <td>37.0000</td>\n",
       "      <td>0.887764</td>\n",
       "    </tr>\n",
       "    <tr>\n",
       "      <th>42</th>\n",
       "      <td>38.0000</td>\n",
       "      <td>0.887887</td>\n",
       "    </tr>\n",
       "    <tr>\n",
       "      <th>74</th>\n",
       "      <td>0.1667</td>\n",
       "      <td>0.887913</td>\n",
       "    </tr>\n",
       "    <tr>\n",
       "      <th>79</th>\n",
       "      <td>34.5000</td>\n",
       "      <td>0.887918</td>\n",
       "    </tr>\n",
       "    <tr>\n",
       "      <th>51</th>\n",
       "      <td>33.0000</td>\n",
       "      <td>0.888051</td>\n",
       "    </tr>\n",
       "    <tr>\n",
       "      <th>59</th>\n",
       "      <td>32.5000</td>\n",
       "      <td>0.888069</td>\n",
       "    </tr>\n",
       "  </tbody>\n",
       "</table>\n",
       "</div>"
      ],
      "text/plain": [
       "        age   entropy\n",
       "62  36.5000  0.886966\n",
       "15  36.0000  0.887311\n",
       "20  34.0000  0.887564\n",
       "73   0.3333  0.887750\n",
       "37  37.0000  0.887764\n",
       "42  38.0000  0.887887\n",
       "74   0.1667  0.887913\n",
       "79  34.5000  0.887918\n",
       "51  33.0000  0.888051\n",
       "59  32.5000  0.888069"
      ]
     },
     "execution_count": 20,
     "metadata": {},
     "output_type": "execute_result"
    }
   ],
   "source": [
    "# Making an empty dataframe for storing the emtropy values for every splitting value of age\n",
    "age_entropy  = pd.DataFrame(columns = ['age', 'entropy'])\n",
    "# Dropping the NAN rows from training data\n",
    "for elem in dt_train['age'].unique():\n",
    "    # Splitting age according to threshold in this iteration\n",
    "    dt_train['age class'] = np.where(dt_train['age'] > elem, 1,0)\n",
    "    # Finding entropy of age column\n",
    "    f, en = col_entropy_finder(dt_train, 'age class')\n",
    "    idx = len(age_entropy) + 1\n",
    "    age_entropy.loc[idx] = [elem, en]\n",
    "\n",
    "age_entropy.nsmallest(10, columns = 'entropy')"
   ]
  },
  {
   "cell_type": "markdown",
   "metadata": {},
   "source": [
    "Hence, when we split the root node using age divided over a threshold, at threshold age = 15 we get the lowest entropy. However, we dont know if this will be the best choice of a root node, we continue this kind of analysis to find a maximum information gain for a threshold for a given column "
   ]
  },
  {
   "cell_type": "code",
   "execution_count": 21,
   "metadata": {},
   "outputs": [
    {
     "data": {
      "text/html": [
       "<div>\n",
       "<style scoped>\n",
       "    .dataframe tbody tr th:only-of-type {\n",
       "        vertical-align: middle;\n",
       "    }\n",
       "\n",
       "    .dataframe tbody tr th {\n",
       "        vertical-align: top;\n",
       "    }\n",
       "\n",
       "    .dataframe thead th {\n",
       "        text-align: right;\n",
       "    }\n",
       "</style>\n",
       "<table border=\"1\" class=\"dataframe\">\n",
       "  <thead>\n",
       "    <tr style=\"text-align: right;\">\n",
       "      <th></th>\n",
       "      <th>pclass</th>\n",
       "      <th>entropy</th>\n",
       "    </tr>\n",
       "  </thead>\n",
       "  <tbody>\n",
       "    <tr>\n",
       "      <th>2</th>\n",
       "      <td>2.0</td>\n",
       "      <td>0.869473</td>\n",
       "    </tr>\n",
       "    <tr>\n",
       "      <th>1</th>\n",
       "      <td>1.0</td>\n",
       "      <td>0.888770</td>\n",
       "    </tr>\n",
       "    <tr>\n",
       "      <th>3</th>\n",
       "      <td>3.0</td>\n",
       "      <td>0.891828</td>\n",
       "    </tr>\n",
       "  </tbody>\n",
       "</table>\n",
       "</div>"
      ],
      "text/plain": [
       "   pclass   entropy\n",
       "2     2.0  0.869473\n",
       "1     1.0  0.888770\n",
       "3     3.0  0.891828"
      ]
     },
     "execution_count": 21,
     "metadata": {},
     "output_type": "execute_result"
    }
   ],
   "source": [
    "# Consider column pclass\n",
    "# Making an empty dataframe for storing the emtropy values for every splitting value of\n",
    "pclass_entropy  = pd.DataFrame(columns = ['pclass', 'entropy'])\n",
    "# Dropping the NAN rows from training data\n",
    "for elem in dt_train['pclass'].unique():\n",
    "    # Splitting age according to threshold in this iteration\n",
    "    dt_train['pclass class'] = np.where(dt_train['pclass'] > elem, 1,0)\n",
    "    # Finding entropy of age column\n",
    "    f, en = col_entropy_finder(dt_train, 'pclass class')\n",
    "    idx = len(pclass_entropy) + 1\n",
    "    pclass_entropy.loc[idx] = [elem, en]\n",
    "\n",
    "pclass_entropy.nsmallest(10, columns = 'entropy')"
   ]
  },
  {
   "cell_type": "markdown",
   "metadata": {},
   "source": [
    "We can see that for pclass, the entropy was much smaller than age, so that is probably a better column to start as a root. Now we create a loop to run this analysis for all columns except age, considered for the training data."
   ]
  },
  {
   "cell_type": "markdown",
   "metadata": {},
   "source": [
    "Now we create an analysis for all the possible column values and their thresholds to determine which combination would be the best for splitting the root"
   ]
  },
  {
   "cell_type": "code",
   "execution_count": 22,
   "metadata": {},
   "outputs": [
    {
     "data": {
      "text/plain": [
       "'S'"
      ]
     },
     "execution_count": 22,
     "metadata": {},
     "output_type": "execute_result"
    }
   ],
   "source": [
    "data_new.embarked[1]"
   ]
  },
  {
   "cell_type": "code",
   "execution_count": 23,
   "metadata": {},
   "outputs": [],
   "source": [
    "# Converting all categorical values into ordinal values\n",
    "\n",
    "# Family class\n",
    "data_new['family class'] = np.where(data_new['family class'] == 'single', 0, np.where(data_new['family class'] == 'small',1, np.where(data_new['family class'] == 'medium', 2, 3)))\n",
    "data_new['embarked'] = np.where(data_new['embarked'] =='Q', 0, np.where(data_new['embarked'] =='C',1,2))"
   ]
  },
  {
   "cell_type": "code",
   "execution_count": 24,
   "metadata": {},
   "outputs": [],
   "source": [
    "# Redefining test train for combined analysis\n",
    "dt_test = data_new.iloc[0:300]\n",
    "dt_train = data_new.drop(index = dt_test.index)"
   ]
  },
  {
   "cell_type": "code",
   "execution_count": 27,
   "metadata": {},
   "outputs": [
    {
     "data": {
      "text/plain": [
       "array([35.    , 64.    , 60.    , 54.    , 21.    , 55.    , 31.    ,\n",
       "       57.    , 45.    , 50.    , 27.    , 51.    ,     nan, 62.    ,\n",
       "       36.    , 30.    , 28.    , 18.    , 25.    , 34.    , 23.    ,\n",
       "       32.    , 19.    ,  1.    ,  4.    , 12.    , 26.    , 42.    ,\n",
       "       24.    , 15.    , 40.    , 20.    ,  0.8333, 22.    , 44.    ,\n",
       "       52.    , 37.    , 29.    ,  8.    , 48.    , 17.    , 38.    ,\n",
       "       16.    , 47.    ,  0.6667,  6.    ,  7.    , 43.    , 49.    ,\n",
       "       63.    , 33.    ,  3.    , 61.    , 46.    , 13.    , 41.    ,\n",
       "       39.    , 70.    , 32.5   , 14.    ,  2.    , 36.5   , 59.    ,\n",
       "       18.5   ,  0.9167,  5.    , 66.    ,  9.    , 11.    ,  0.75  ,\n",
       "       70.5   , 22.5   ,  0.3333,  0.1667, 65.    , 40.5   , 10.    ,\n",
       "       23.5   , 34.5   , 20.5   , 30.5   , 55.5   , 28.5   , 38.5   ,\n",
       "       14.5   , 24.5   , 60.5   , 74.    ,  0.4167, 11.5   , 45.5   ,\n",
       "       26.5   ])"
      ]
     },
     "execution_count": 27,
     "metadata": {},
     "output_type": "execute_result"
    }
   ],
   "source": [
    "dt_train['age'].unique()"
   ]
  },
  {
   "cell_type": "code",
   "execution_count": 26,
   "metadata": {},
   "outputs": [
    {
     "data": {
      "text/html": [
       "<div>\n",
       "<style scoped>\n",
       "    .dataframe tbody tr th:only-of-type {\n",
       "        vertical-align: middle;\n",
       "    }\n",
       "\n",
       "    .dataframe tbody tr th {\n",
       "        vertical-align: top;\n",
       "    }\n",
       "\n",
       "    .dataframe thead th {\n",
       "        text-align: right;\n",
       "    }\n",
       "</style>\n",
       "<table border=\"1\" class=\"dataframe\">\n",
       "  <thead>\n",
       "    <tr style=\"text-align: right;\">\n",
       "      <th></th>\n",
       "      <th>split_value</th>\n",
       "      <th>entropy</th>\n",
       "      <th>column</th>\n",
       "    </tr>\n",
       "  </thead>\n",
       "  <tbody>\n",
       "    <tr>\n",
       "      <th>5</th>\n",
       "      <td>0</td>\n",
       "      <td>0.722999</td>\n",
       "      <td>sex</td>\n",
       "    </tr>\n",
       "    <tr>\n",
       "      <th>2</th>\n",
       "      <td>2</td>\n",
       "      <td>0.869473</td>\n",
       "      <td>pclass</td>\n",
       "    </tr>\n",
       "    <tr>\n",
       "      <th>98</th>\n",
       "      <td>0</td>\n",
       "      <td>0.875141</td>\n",
       "      <td>family class</td>\n",
       "    </tr>\n",
       "    <tr>\n",
       "      <th>102</th>\n",
       "      <td>1</td>\n",
       "      <td>0.883848</td>\n",
       "      <td>embarked</td>\n",
       "    </tr>\n",
       "    <tr>\n",
       "      <th>100</th>\n",
       "      <td>2</td>\n",
       "      <td>0.886350</td>\n",
       "      <td>family class</td>\n",
       "    </tr>\n",
       "    <tr>\n",
       "      <th>67</th>\n",
       "      <td>36.5</td>\n",
       "      <td>0.886966</td>\n",
       "      <td>age</td>\n",
       "    </tr>\n",
       "    <tr>\n",
       "      <th>20</th>\n",
       "      <td>36</td>\n",
       "      <td>0.887311</td>\n",
       "      <td>age</td>\n",
       "    </tr>\n",
       "    <tr>\n",
       "      <th>25</th>\n",
       "      <td>34</td>\n",
       "      <td>0.887564</td>\n",
       "      <td>age</td>\n",
       "    </tr>\n",
       "    <tr>\n",
       "      <th>78</th>\n",
       "      <td>0.3333</td>\n",
       "      <td>0.887750</td>\n",
       "      <td>age</td>\n",
       "    </tr>\n",
       "    <tr>\n",
       "      <th>42</th>\n",
       "      <td>37</td>\n",
       "      <td>0.887764</td>\n",
       "      <td>age</td>\n",
       "    </tr>\n",
       "  </tbody>\n",
       "</table>\n",
       "</div>"
      ],
      "text/plain": [
       "    split_value   entropy        column\n",
       "5             0  0.722999           sex\n",
       "2             2  0.869473        pclass\n",
       "98            0  0.875141  family class\n",
       "102           1  0.883848      embarked\n",
       "100           2  0.886350  family class\n",
       "67         36.5  0.886966           age\n",
       "20           36  0.887311           age\n",
       "25           34  0.887564           age\n",
       "78       0.3333  0.887750           age\n",
       "42           37  0.887764           age"
      ]
     },
     "execution_count": 26,
     "metadata": {},
     "output_type": "execute_result"
    }
   ],
   "source": [
    "cols = ['pclass', 'sex','age', 'family class', 'embarked']\n",
    "\n",
    "\n",
    "# Making an empty dataframe for storing the emtropy values for every splitting value of a given column\n",
    "result_entropy  = pd.DataFrame(columns = ['split_value', 'entropy', 'column'])\n",
    "for col in cols:\n",
    "        # Unique values\n",
    "        for elem in dt_train[col].unique():\n",
    "            # Splitting age according to threshold in this iteration\n",
    "            dt_train['class'] = np.where(dt_train[col] > elem, 1,0)\n",
    "            # Finding entropy of current column\n",
    "            f, en = col_entropy_finder(dt_train, 'class')\n",
    "            idx = len(result_entropy) + 1\n",
    "            result_entropy.loc[idx] = [elem, en, col]\n",
    "\n",
    "result_entropy.nsmallest(10, columns = 'entropy')"
   ]
  },
  {
   "cell_type": "code",
   "execution_count": null,
   "metadata": {},
   "outputs": [],
   "source": []
  },
  {
   "cell_type": "code",
   "execution_count": null,
   "metadata": {},
   "outputs": [],
   "source": []
  }
 ],
 "metadata": {
  "kernelspec": {
   "display_name": "Python 3",
   "language": "python",
   "name": "python3"
  },
  "language_info": {
   "codemirror_mode": {
    "name": "ipython",
    "version": 3
   },
   "file_extension": ".py",
   "mimetype": "text/x-python",
   "name": "python",
   "nbconvert_exporter": "python",
   "pygments_lexer": "ipython3",
   "version": "3.6.4"
  }
 },
 "nbformat": 4,
 "nbformat_minor": 2
}
